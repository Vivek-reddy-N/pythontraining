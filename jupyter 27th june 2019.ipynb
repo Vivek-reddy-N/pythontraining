{
 "cells": [
  {
   "cell_type": "code",
   "execution_count": 9,
   "metadata": {},
   "outputs": [
    {
     "name": "stdout",
     "output_type": "stream",
     "text": [
      "file is created successfully and data is written\n"
     ]
    }
   ],
   "source": [
    "#function to create a file and write some data\n",
    "def createafile(filename):\n",
    "    f=open(filename,\"w\")\n",
    "    for i in range(10):\n",
    "        f.write(\"this is %d line\\n\" % i)\n",
    "    print(\"file is created successfully and data is written\")\n",
    "    f.close()\n",
    "    return\n",
    "createafile(\"file1.txt\")\n"
   ]
  },
  {
   "cell_type": "code",
   "execution_count": 11,
   "metadata": {},
   "outputs": [
    {
     "name": "stdout",
     "output_type": "stream",
     "text": [
      "this is 0 line\n",
      "this is 1 line\n",
      "this is 2 line\n",
      "this is 3 line\n",
      "this is 4 line\n",
      "this is 5 line\n",
      "this is 6 line\n",
      "this is 7 line\n",
      "this is 8 line\n",
      "this is 9 line\n",
      "\n"
     ]
    }
   ],
   "source": [
    "#function for reading the file data\n",
    "def readfile(filename):\n",
    "    f=open(filename,\"r\")\n",
    "    if f.mode==\"r\" :\n",
    "        x=f.read()\n",
    "        print(x)\n",
    "    f.close()\n",
    "    return\n",
    "readfile(\"file1.txt\")"
   ]
  },
  {
   "cell_type": "code",
   "execution_count": 22,
   "metadata": {},
   "outputs": [],
   "source": [
    "#data to append\n",
    "#function to append the data to existing file\n",
    "def appenddata(filename):\n",
    "    f=open(filename,\"a\")\n",
    "    f.write(\"new line 1\\n\")\n",
    "    f.write(\"new line 2\\n\")\n",
    "    f.close()\n",
    "    return\n",
    "appenddata(\"file1.txt\")"
   ]
  },
  {
   "cell_type": "code",
   "execution_count": 21,
   "metadata": {},
   "outputs": [
    {
     "name": "stdout",
     "output_type": "stream",
     "text": [
      "0\n"
     ]
    }
   ],
   "source": [
    "#word count using file I/O python\n",
    "def dataanalysiswordcount(filename,word):\n",
    "    f=open(filename,\"r\")\n",
    "    if f.mode==\"r\":\n",
    "        x=f.read()\n",
    "        lst=x.split()\n",
    "    cnt=lst.count(word)\n",
    "    return cnt\n",
    "print(dataanalysiswordcount(\"file1.txt\",\"rest\"))"
   ]
  },
  {
   "cell_type": "code",
   "execution_count": 23,
   "metadata": {
    "scrolled": true
   },
   "outputs": [
    {
     "name": "stdout",
     "output_type": "stream",
     "text": [
      "None\n"
     ]
    }
   ],
   "source": [
    "#function to count characters in the file\n",
    "def countcharacters(filename):\n",
    "    f=open(filename,\"r\")\n",
    "    if f.mode==\"r\":\n",
    "        x=f.read()\n",
    "        lst=list(x)\n",
    "    return\n",
    "print(countcharacters(\"file1.txt\"))"
   ]
  },
  {
   "cell_type": "code",
   "execution_count": 27,
   "metadata": {},
   "outputs": [
    {
     "name": "stdout",
     "output_type": "stream",
     "text": [
      "['t', 'h', 'i', 's', ' ', 'i', 's', ' ', '0', ' ', 'l', 'i', 'n', 'e', '\\n', 't', 'h', 'i', 's', ' ', 'i', 's', ' ', '1', ' ', 'l', 'i', 'n', 'e', '\\n', 't', 'h', 'i', 's', ' ', 'i', 's', ' ', '2', ' ', 'l', 'i', 'n', 'e', '\\n', 't', 'h', 'i', 's', ' ', 'i', 's', ' ', '3', ' ', 'l', 'i', 'n', 'e', '\\n', 't', 'h', 'i', 's', ' ', 'i', 's', ' ', '4', ' ', 'l', 'i', 'n', 'e', '\\n', 't', 'h', 'i', 's', ' ', 'i', 's', ' ', '5', ' ', 'l', 'i', 'n', 'e', '\\n', 't', 'h', 'i', 's', ' ', 'i', 's', ' ', '6', ' ', 'l', 'i', 'n', 'e', '\\n', 't', 'h', 'i', 's', ' ', 'i', 's', ' ', '7', ' ', 'l', 'i', 'n', 'e', '\\n', 't', 'h', 'i', 's', ' ', 'i', 's', ' ', '8', ' ', 'l', 'i', 'n', 'e', '\\n', 't', 'h', 'i', 's', ' ', 'i', 's', ' ', '9', ' ', 'l', 'i', 'n', 'e', '\\n', 'n', 'e', 'w', ' ', 'l', 'i', 'n', 'e', ' ', '1', '\\n', 'n', 'e', 'w', ' ', 'l', 'i', 'n', 'e', ' ', '2', '\\n', 'n', 'e', 'w', ' ', 'l', 'i', 'n', 'e', ' ', '1', '\\n', 'n', 'e', 'w', ' ', 'l', 'i', 'n', 'e', ' ', '2', '\\n', 'n', 'e', 'w', ' ', 'l', 'i', 'n', 'e', ' ', '1', '\\n', 'n', 'e', 'w', ' ', 'l', 'i', 'n', 'e', ' ', '2', '\\n', 'n', 'e', 'w', ' ', 'l', 'i', 'n', 'e', ' ', '1', '\\n', 'n', 'e', 'w', ' ', 'l', 'i', 'n', 'e', ' ', '2', '\\n']\n"
     ]
    }
   ],
   "source": [
    "#function to count the upper case characters from the given file\n",
    "def countuppercasechar(filename):\n",
    "    f=open(filename,\"r\")\n",
    "    if f.mode==\"r\":\n",
    "        x=f.read()\n",
    "        lst=list(x) \n",
    "    return lst\n",
    "print(countuppercasechar(\"file1.txt\"))"
   ]
  },
  {
   "cell_type": "code",
   "execution_count": 29,
   "metadata": {},
   "outputs": [
    {
     "name": "stdout",
     "output_type": "stream",
     "text": [
      "0\n"
     ]
    }
   ],
   "source": [
    "#function to count the upper case characters from the given file\n",
    "def countuppercasechar(filename):\n",
    "    countupper=0\n",
    "    f=open(filename,\"r\")\n",
    "    if f.mode==\"r\":\n",
    "        x=f.read()\n",
    "        lst=list(x) \n",
    "    for i in lst:\n",
    "        if i.isupper():\n",
    "            countupper += 1\n",
    "    return countupper\n",
    "print(countuppercasechar(\"file1.txt\"))"
   ]
  },
  {
   "cell_type": "code",
   "execution_count": 36,
   "metadata": {},
   "outputs": [
    {
     "name": "stdout",
     "output_type": "stream",
     "text": [
      "19\n"
     ]
    }
   ],
   "source": [
    "#function to count lines in the given function\n",
    "def countlines(filename):\n",
    "    f=open(filename,\"r\")\n",
    "    if f.mode==\"r\":\n",
    "        x=f.read() \n",
    "        lst=x.split(\"\\n\")\n",
    "    f.close()\n",
    "    return len(lst)\n",
    "print(countlines(\"file1.txt\"))"
   ]
  },
  {
   "cell_type": "code",
   "execution_count": 37,
   "metadata": {},
   "outputs": [],
   "source": [
    "#regural expression for indian mobile number\n"
   ]
  },
  {
   "cell_type": "code",
   "execution_count": 45,
   "metadata": {},
   "outputs": [
    {
     "name": "stdout",
     "output_type": "stream",
     "text": [
      "False\n",
      "True\n",
      "False\n",
      "True\n",
      "False\n",
      "True\n"
     ]
    }
   ],
   "source": [
    "import re\n",
    "def phonenumbervalidate(phone):\n",
    "    pattern='^[6-9][0-9]{9}$|^[0][6-9][0-9]{9}$|^[+][9][1][6-9][0-9]{9}$'\n",
    "    phone=str(phone)\n",
    "    if re.match(pattern,phone):\n",
    "        return True\n",
    "    return False\n",
    "print(phonenumbervalidate('998877554'))\n",
    "print(phonenumbervalidate('9988775544'))\n",
    "print(phonenumbervalidate('5988775544'))\n",
    "print(phonenumbervalidate('09988775544'))\n",
    "print(phonenumbervalidate('998877554433'))\n",
    "print(phonenumbervalidate('+919988775544'))"
   ]
  },
  {
   "cell_type": "code",
   "execution_count": 50,
   "metadata": {},
   "outputs": [
    {
     "name": "stdout",
     "output_type": "stream",
     "text": [
      "True\n",
      "False\n"
     ]
    }
   ],
   "source": [
    "import re\n",
    "def validaterollnumber(roll):\n",
    "    pattern='^[2][2][1][8][1][0][3][0][1-9][0][0-9][1-9]$'\n",
    "    roll=str(roll)\n",
    "    if re.match(pattern,roll):\n",
    "        return True\n",
    "    return False\n",
    "print(validaterollnumber('221810307036'))\n",
    "print(validaterollnumber('221810369036'))"
   ]
  },
  {
   "cell_type": "code",
   "execution_count": 52,
   "metadata": {
    "scrolled": true
   },
   "outputs": [
    {
     "name": "stdout",
     "output_type": "stream",
     "text": [
      "True\n",
      "False\n"
     ]
    }
   ],
   "source": [
    "import re\n",
    "def validateEmailID(ID):\n",
    "    pattern='^[0-9a-z][0-9a-z_.]{4,13}[0-9a-z][@][a-z0-9]{3,18}[.][a-z]{2,4}$'\n",
    "    ID=str(ID)\n",
    "    if re.match(pattern,ID):\n",
    "        return True\n",
    "    return False\n",
    "print(validateEmailID('anil.1889@gmail.com'))\n",
    "print(validateEmailID('$anil.1889@gmail.com'))"
   ]
  },
  {
   "cell_type": "code",
   "execution_count": 55,
   "metadata": {
    "scrolled": true
   },
   "outputs": [
    {
     "name": "stdout",
     "output_type": "stream",
     "text": [
      "True\n",
      "False\n"
     ]
    }
   ],
   "source": [
    "#accept lower case, upper case, special symbols(!,@,#,$)\n",
    "import re\n",
    "def validatepassword(pwd):\n",
    "    pattern='^[a-zA-Z0-9!@#$]{6,15}$'\n",
    "    pwd=str(pwd)\n",
    "    if re.match(pattern,pwd):\n",
    "        return True\n",
    "    return False\n",
    "print(validatepassword('#AbC!d@E123'))\n",
    "print(validatepassword('$anil.1889'))"
   ]
  },
  {
   "cell_type": "code",
   "execution_count": 57,
   "metadata": {},
   "outputs": [
    {
     "name": "stdout",
     "output_type": "stream",
     "text": [
      "156\n"
     ]
    }
   ],
   "source": [
    "#function to count the lower case characters from the given file\n",
    "def countlowercasechar(filename):\n",
    "    countlower=0\n",
    "    f=open(filename,\"r\")\n",
    "    if f.mode==\"r\":\n",
    "        x=f.read()\n",
    "        lst=list(x) \n",
    "    for i in lst:\n",
    "        if i.islower():\n",
    "            countlower += 1\n",
    "    return countlower\n",
    "print(countlowercasechar(\"file1.txt\"))"
   ]
  },
  {
   "cell_type": "code",
   "execution_count": null,
   "metadata": {},
   "outputs": [],
   "source": []
  }
 ],
 "metadata": {
  "kernelspec": {
   "display_name": "Python 3",
   "language": "python",
   "name": "python3"
  },
  "language_info": {
   "codemirror_mode": {
    "name": "ipython",
    "version": 3
   },
   "file_extension": ".py",
   "mimetype": "text/x-python",
   "name": "python",
   "nbconvert_exporter": "python",
   "pygments_lexer": "ipython3",
   "version": "3.7.3"
  }
 },
 "nbformat": 4,
 "nbformat_minor": 2
}
