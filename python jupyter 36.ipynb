{
 "cells": [
  {
   "cell_type": "code",
   "execution_count": 2,
   "metadata": {},
   "outputs": [
    {
     "name": "stdout",
     "output_type": "stream",
     "text": [
      "Enter lower limit1\n",
      "Enter upper limit100\n",
      "2450\n"
     ]
    }
   ],
   "source": [
    "x=int(input(\"Enter lower limit\"));\n",
    "y=int(input(\"Enter upper limit\"));\n",
    "sum=0;\n",
    "while(x!=y):\n",
    "    if(x%2==0):\n",
    "        sum=sum+x;\n",
    "    x=x+1;\n",
    "    \n",
    "print(sum);"
   ]
  },
  {
   "cell_type": "code",
   "execution_count": 3,
   "metadata": {},
   "outputs": [
    {
     "name": "stdout",
     "output_type": "stream",
     "text": [
      "Enter a number145\n",
      "5\n",
      "4\n",
      "1\n"
     ]
    }
   ],
   "source": [
    "n=int(input(\"Enter a number\"));\n",
    "while(n!=0):\n",
    "    r=n%10;\n",
    "    n=n//10;\n",
    "    print(r);\n"
   ]
  },
  {
   "cell_type": "code",
   "execution_count": 4,
   "metadata": {},
   "outputs": [
    {
     "name": "stdout",
     "output_type": "stream",
     "text": [
      "Enter a number145\n",
      "4\n"
     ]
    }
   ],
   "source": [
    "x=int(input(\"Enter a number\"));\n",
    "sum=0;\n",
    "while(x!=0):\n",
    "     r=x%10;\n",
    "     x=x//10;\n",
    "     if(r%2==0):\n",
    "        sum=sum+r;\n",
    "    \n",
    "print(sum);"
   ]
  },
  {
   "cell_type": "code",
   "execution_count": 1,
   "metadata": {},
   "outputs": [
    {
     "name": "stdout",
     "output_type": "stream",
     "text": [
      "Enter a number145\n",
      "FIVE\n",
      "FOUR\n",
      "ONE\n"
     ]
    }
   ],
   "source": [
    "n=int(input(\"Enter a number\"));\n",
    "while(n!=0):\n",
    "    r=n%10;\n",
    "    n=n//10;\n",
    "    if(r==0):\n",
    "      print(\"ZERO\");\n",
    "    elif(r==1):\n",
    "      print(\"ONE\");\n",
    "    elif(r==2):\n",
    "      print(\"TWO\");\n",
    "    elif(r==3):\n",
    "      print(\"THREE\");\n",
    "    elif(r==4):\n",
    "      print(\"FOUR\");\n",
    "    elif(r==5):\n",
    "      print(\"FIVE\");\n",
    "    elif(r==6):\n",
    "      print(\"SIX\");\n",
    "    elif(r==7):\n",
    "      print(\"SEVEN\");\n",
    "    elif(r==8):\n",
    "      print(\"EIGHT\");\n",
    "    elif(r==9):\n",
    "      print(\"NINE\");"
   ]
  },
  {
   "cell_type": "code",
   "execution_count": 1,
   "metadata": {},
   "outputs": [
    {
     "name": "stdout",
     "output_type": "stream",
     "text": [
      "Enter a number6\n",
      "Enter a number60\n",
      "Enter a number65\n",
      "5\n"
     ]
    }
   ],
   "source": [
    "x=int(input(\"Enter a number\"));\n",
    "y=int(input(\"Enter a number\"));\n",
    "z=int(input(\"Enter a number\"));\n",
    "count=0;\n",
    "while(y!=z):\n",
    "  temp=y;\n",
    "  while(y!=0):\n",
    "    r=y%10;\n",
    "    if(r==x):\n",
    "      count=count+1;\n",
    "    y=y//10;\n",
    "  y=+temp;\n",
    "  y=y+1;\n",
    "print(count);"
   ]
  },
  {
   "cell_type": "code",
   "execution_count": null,
   "metadata": {},
   "outputs": [],
   "source": [
    "def printNNaturalNumbers(n)\n",
    "  count=1;\n",
    "    \n",
    "  while(cnt<=n):\n"
   ]
  },
  {
   "cell_type": "code",
   "execution_count": 7,
   "metadata": {},
   "outputs": [
    {
     "name": "stdout",
     "output_type": "stream",
     "text": [
      "120\n",
      "3628800\n",
      "1307674368000\n"
     ]
    }
   ],
   "source": [
    "def findfact(n):\n",
    "    fact=1;\n",
    "    while(n!=0):\n",
    "        fact=fact*n;\n",
    "        n=n-1;\n",
    "    return fact;\n",
    "print(findfact(5));\n",
    "print(findfact(10));\n",
    "print(findfact(15));           \n",
    "        \n",
    "        \n",
    "        \n",
    "\n",
    "    "
   ]
  },
  {
   "cell_type": "code",
   "execution_count": 17,
   "metadata": {},
   "outputs": [
    {
     "ename": "SyntaxError",
     "evalue": "'return' outside function (<ipython-input-17-c7a1eb265f4b>, line 22)",
     "output_type": "error",
     "traceback": [
      "\u001b[1;36m  File \u001b[1;32m\"<ipython-input-17-c7a1eb265f4b>\"\u001b[1;36m, line \u001b[1;32m22\u001b[0m\n\u001b[1;33m    return cnt;\u001b[0m\n\u001b[1;37m                  ^\u001b[0m\n\u001b[1;31mSyntaxError\u001b[0m\u001b[1;31m:\u001b[0m 'return' outside function\n"
     ]
    }
   ],
   "source": [
    "def countofpalindrome(x,y):\n",
    "  cnt=0;\n",
    "  while(x!=y):\n",
    "    temp=x;\n",
    "    sum=0;\n",
    "    while(x!=0):\n",
    "      r=x%10;\n",
    "      sum=sum*10+r;\n",
    "      x=x//10;\n",
    "    x=temp;\n",
    "    if(temp==sum):\n",
    "        cnt=cnt+1;\n",
    "        print(sum);\n",
    "    sum=0;\n",
    "    x=x+1;\n",
    "\n",
    "\n",
    "        \n",
    "       \n",
    "    \n",
    "    \n",
    "return cnt;   \n",
    "printcountofpalindrome(10,30);"
   ]
  },
  {
   "cell_type": "code",
   "execution_count": null,
   "metadata": {},
   "outputs": [],
   "source": []
  },
  {
   "cell_type": "code",
   "execution_count": 2,
   "metadata": {},
   "outputs": [
    {
     "name": "stdout",
     "output_type": "stream",
     "text": [
      "1 9 19 22 "
     ]
    }
   ],
   "source": [
    "def linearformatedoutput(a):\n",
    "  for i in range(len(a)):\n",
    "    if i==0 or i==(len(a)-1):\n",
    "       print(a[i],end=\" \")\n",
    "    elif a[i-1]%2==0 and a[i+1]%2==0:\n",
    "      print(a[i],end=\" \")\n",
    "  \n",
    " \n",
    "a=[1,6,9,4,16,19,22]\n",
    "linearformatedoutput(a);"
   ]
  },
  {
   "cell_type": "code",
   "execution_count": null,
   "metadata": {},
   "outputs": [],
   "source": [
    "def binarysearch(a,lIndex,rIndex,tarItem):\n",
    "    while lIndex <= rIndex :\n",
    "        mIndex=lIndex+(rIndex-lIndex)//2;\n",
    "        if a[mIndex]==tarItem:\n",
    "            return mIndex\n",
    "        if a[mIndex]>tarItem:\n",
    "            rIndex=mIndex - 1\n",
    "        else :\n",
    "            rIndex=mIndex + 1\n",
    "list1= [1,4,9,15,25,45,57,88,98]\n",
    "res= binarysearch(list1,0,8,45)\n",
    "if res != -1:\n",
    "    print(\"item is found\")\n",
    "else :\n",
    "    print(\"item is not found\")    "
   ]
  },
  {
   "cell_type": "code",
   "execution_count": null,
   "metadata": {},
   "outputs": [],
   "source": [
    "def bubblesort(a):\n",
    "   for i in range(len(a)-1):\n",
    "        for j in range(len(a)-1):\n",
    "            if a[j]>a[j+1]:\n",
    "                a[j],a[j+1]=a[j+1],a[j]\n",
    "bubblesort(list1)   for i in range(len(a)):\n",
    "        print(a[i],end=\" \")\n",
    "    \n",
    "list1=[19,1,25,6,18,3]\n"
   ]
  },
  {
   "cell_type": "code",
   "execution_count": 8,
   "metadata": {},
   "outputs": [
    {
     "name": "stdout",
     "output_type": "stream",
     "text": [
      "False\n",
      "True\n"
     ]
    }
   ],
   "source": [
    "def palindrome(s):\n",
    "    if s==s[::-1]:\n",
    "       return True\n",
    "    else :\n",
    "       return False\n",
    "print(palindrome(\"python\"))\n",
    "print(palindrome(\"manam\"))"
   ]
  },
  {
   "cell_type": "code",
   "execution_count": 10,
   "metadata": {},
   "outputs": [
    {
     "data": {
      "text/plain": [
       "11"
      ]
     },
     "execution_count": 10,
     "metadata": {},
     "output_type": "execute_result"
    }
   ],
   "source": [
    "def countofchars(str):\n",
    "    return len(str)\n",
    "countofchars(\"application\")\n"
   ]
  },
  {
   "cell_type": "code",
   "execution_count": 21,
   "metadata": {},
   "outputs": [
    {
     "name": "stdout",
     "output_type": "stream",
     "text": [
      "3\n"
     ]
    }
   ],
   "source": [
    "def countuppercase(str):\n",
    "    count=0;\n",
    "    lst=list(str);\n",
    "    for x in range(len(lst)):\n",
    "        if ord(lst[x])>=65 and ord(lst[x])<=90:\n",
    "            count=count+1;\n",
    "    return count\n",
    "print(countuppercase(\"AppLicaTion\"))\n"
   ]
  },
  {
   "cell_type": "code",
   "execution_count": 31,
   "metadata": {},
   "outputs": [
    {
     "name": "stdout",
     "output_type": "stream",
     "text": [
      "26\n",
      "16\n",
      "22\n"
     ]
    }
   ],
   "source": [
    "def sumofdigits(str):\n",
    "    sum=0;\n",
    "    lst=list(str);\n",
    "    for x in range(len(lst)):\n",
    "        if ord(lst[x])>=48 and ord(lst[x])<=57:\n",
    "            sum=sum+ord(lst[x])-48;\n",
    "    return sum\n",
    "print(sumofdigits(\"Application1889\"))\n",
    "print(sumofdigits(\"Te1591st\"))\n",
    "print(sumofdigits(\"Wor7852king\"))"
   ]
  },
  {
   "cell_type": "code",
   "execution_count": 27,
   "metadata": {},
   "outputs": [
    {
     "name": "stdout",
     "output_type": "stream",
     "text": [
      "16\n",
      "0\n",
      "10\n"
     ]
    }
   ],
   "source": [
    "def sumofdigitseven(str):\n",
    "    sum=0;\n",
    "    lst=list(str);\n",
    "    for x in range(len(lst)):\n",
    "        if ord(lst[x])>=48 and ord(lst[x])<=57:\n",
    "            if ord(lst[x])%2==0:\n",
    "                sum=sum+ord(lst[x])-48;\n",
    "    return sum\n",
    "print(sumofdigitseven(\"Application1889\"))\n",
    "print(sumofdigitseven(\"Te1591st\"))\n",
    "print(sumofdigitseven(\"Wor7852king\"))"
   ]
  },
  {
   "cell_type": "code",
   "execution_count": 29,
   "metadata": {},
   "outputs": [
    {
     "name": "stdout",
     "output_type": "stream",
     "text": [
      "10\n",
      "16\n",
      "12\n"
     ]
    }
   ],
   "source": [
    "def sumofdigitsodd(str):\n",
    "    sum=0;\n",
    "    lst=list(str);\n",
    "    for x in range(len(lst)):\n",
    "        if ord(lst[x])>=48 and ord(lst[x])<=57:\n",
    "            if ord(lst[x])%2!=0:\n",
    "                sum=sum+ord(lst[x])-48;\n",
    "    return sum\n",
    "print(sumofdigitsodd(\"Application1889\"))\n",
    "print(sumofdigitsodd(\"Te1591st\"))\n",
    "print(sumofdigitsodd(\"Wor7852king\"))"
   ]
  },
  {
   "cell_type": "code",
   "execution_count": null,
   "metadata": {},
   "outputs": [],
   "source": [
    "def convertcase(str):\n",
    "    count=0;\n",
    "    lst=list(str);\n",
    "    for x in range(len(lst)):\n",
    "        if ord(lst[x])>=65 and ord(lst[x])<=90:\n",
    "           ;\n",
    "        if ord(lst[x])>=97 and ord(lst[x])<=122:\n",
    "    return count\n",
    "print(convertcase(\"AppLicaTion\"))"
   ]
  }
 ],
 "metadata": {
  "kernelspec": {
   "display_name": "Python 3",
   "language": "python",
   "name": "python3"
  },
  "language_info": {
   "codemirror_mode": {
    "name": "ipython",
    "version": 3
   },
   "file_extension": ".py",
   "mimetype": "text/x-python",
   "name": "python",
   "nbconvert_exporter": "python",
   "pygments_lexer": "ipython3",
   "version": "3.7.3"
  }
 },
 "nbformat": 4,
 "nbformat_minor": 2
}
